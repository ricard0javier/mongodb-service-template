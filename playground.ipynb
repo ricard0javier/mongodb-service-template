{
  "cells": [
    {
      "cell_type": "markdown",
      "metadata": {},
      "source": [
        "[![Lab Documentation and Solutions](https://img.shields.io/badge/Lab%20Documentation%20and%20Solutions-purple)](https://mongodb-developer.github.io/vector-search-lab/)"
      ]
    },
    {
      "cell_type": "markdown",
      "metadata": {},
      "source": [
        "# Configure client"
      ]
    },
    {
      "cell_type": "code",
      "execution_count": 10,
      "metadata": {},
      "outputs": [],
      "source": [
        "import { MongoClient, ServerApiVersion } from \"mongodb\";\n",
        "const client = new MongoClient(\"mongodb://mongodb1:27017,mongodb2:27018,mongodb3:27019/?replicaSet=rs0\");\n",
        "\n",
        "const db = client.db(\"playground\");"
      ]
    },
    {
      "cell_type": "markdown",
      "metadata": {},
      "source": [
        "# Insert data"
      ]
    },
    {
      "cell_type": "code",
      "execution_count": 11,
      "metadata": {},
      "outputs": [
        {
          "data": {
            "text/plain": [
              "{\n",
              "  acknowledged: \u001b[33mtrue\u001b[39m,\n",
              "  insertedId: new ObjectId(\u001b[32m\"6895b52ac58cff48c39a36f4\"\u001b[39m)\n",
              "}"
            ]
          },
          "execution_count": 11,
          "metadata": {},
          "output_type": "execute_result"
        }
      ],
      "source": [
        "await db.collection(\"test\").insertOne({\n",
        "    name: \"John\",\n",
        "    age: 30\n",
        "})"
      ]
    },
    {
      "cell_type": "markdown",
      "metadata": {},
      "source": [
        "# Retrieve Data"
      ]
    },
    {
      "cell_type": "code",
      "execution_count": 12,
      "metadata": {},
      "outputs": [
        {
          "data": {
            "text/plain": [
              "[\n",
              "  {\n",
              "    _id: new ObjectId(\u001b[32m\"6894db28d6efb9249c63956a\"\u001b[39m),\n",
              "    name: \u001b[32m\"John\"\u001b[39m,\n",
              "    age: \u001b[33m30\u001b[39m\n",
              "  },\n",
              "  {\n",
              "    _id: new ObjectId(\u001b[32m\"6894dbc6c58cff48c39a36f1\"\u001b[39m),\n",
              "    name: \u001b[32m\"John\"\u001b[39m,\n",
              "    age: \u001b[33m30\u001b[39m\n",
              "  },\n",
              "  {\n",
              "    _id: new ObjectId(\u001b[32m\"6894dbd0c58cff48c39a36f2\"\u001b[39m),\n",
              "    name: \u001b[32m\"John\"\u001b[39m,\n",
              "    age: \u001b[33m30\u001b[39m\n",
              "  },\n",
              "  {\n",
              "    _id: new ObjectId(\u001b[32m\"6894dbd3c58cff48c39a36f3\"\u001b[39m),\n",
              "    name: \u001b[32m\"John\"\u001b[39m,\n",
              "    age: \u001b[33m30\u001b[39m\n",
              "  },\n",
              "  {\n",
              "    _id: new ObjectId(\u001b[32m\"6895b52ac58cff48c39a36f4\"\u001b[39m),\n",
              "    name: \u001b[32m\"John\"\u001b[39m,\n",
              "    age: \u001b[33m30\u001b[39m\n",
              "  }\n",
              "]"
            ]
          },
          "execution_count": 12,
          "metadata": {},
          "output_type": "execute_result"
        }
      ],
      "source": [
        "await db.collection(\"test\").find({\n",
        "  name: \"John\"\n",
        "}).toArray()"
      ]
    }
  ],
  "metadata": {
    "kernelspec": {
      "display_name": "Deno",
      "language": "typescript",
      "name": "deno"
    },
    "language_info": {
      "codemirror_mode": "typescript",
      "file_extension": ".ts",
      "mimetype": "text/x.typescript",
      "name": "typescript",
      "nbconvert_exporter": "script",
      "pygments_lexer": "typescript",
      "version": "5.8.3"
    },
    "widgets": {
      "application/vnd.jupyter.widget-state+json": {
        "state": {}
      }
    }
  },
  "nbformat": 4,
  "nbformat_minor": 2
}
